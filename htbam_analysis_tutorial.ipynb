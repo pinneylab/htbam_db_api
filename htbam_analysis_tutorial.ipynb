{
 "cells": [
  {
   "cell_type": "markdown",
   "id": "10615f21",
   "metadata": {},
   "source": [
    "# HTBAM Analysis & DB API Tutorial\n",
    "This notebook walks you through:\n",
    "1. Loading data via `LocalHtbamDBAPI`\n",
    "2. Inspecting Data objects\n",
    "3. Transforming data with `transform_data`\n",
    "4. Fitting initial rates and dose–response curves\n",
    "5. Masking poor fits\n",
    "6. Plotting with `plot_chip`\n",
    "7. Exporting results to CSV"
   ]
  },
  {
   "cell_type": "code",
   "execution_count": null,
   "id": "7b70b597",
   "metadata": {},
   "outputs": [],
   "source": [
    "# Enable live reloading and inline plots\n",
    "%load_ext autoreload\n",
    "%autoreload 2\n",
    "%matplotlib inline\n",
    "%config InlineBackend.figure_format = 'svg'\n",
    "\n",
    "from htbam_db_api.htbam_db_api import LocalHtbamDBAPI\n",
    "from htbam_analysis.analysis.experiment import HTBAMExperiment\n",
    "from htbam_analysis.analysis.transform import transform_data\n",
    "from htbam_analysis.analysis.fit import (\n",
    "    fit_concentration_vs_time,\n",
    "    fit_luminance_vs_concentration,\n",
    "    fit_initial_rates_vs_concentration_with_function,\n",
    "    mm_model,\n",
    "    inhibition_model\n",
    ")\n",
    "from htbam_analysis.analysis.filter import (\n",
    "    filter_initial_rates_r2_cutoff,\n",
    "    filter_r2_cutoff\n",
    ")"
   ]
  },
  {
   "cell_type": "markdown",
   "id": "6a0b43dc",
   "metadata": {},
   "source": [
    "## 1. Load & connect to your data\n",
    "Instantiate `LocalHtbamDBAPI` with your CSVs, then wrap it in an `HTBAMExperiment`."
   ]
  },
  {
   "cell_type": "code",
   "execution_count": null,
   "id": "5e61cdfd",
   "metadata": {},
   "outputs": [],
   "source": [
    "root = './examples/ic50_data/'  # adjust as needed\n",
    "db = LocalHtbamDBAPI(\n",
    "    standard_curve_data_path = root + 'd3_2_StandardSeries_Analysis.csv',\n",
    "    standard_name = 'standard_5-FAM',\n",
    "    standard_substrate = '5-FAM',\n",
    "    standard_units = 'uM',\n",
    "    kinetic_data_path = root + 'd3_TitrationSeries_Analysis.csv',\n",
    "    kinetic_name = 'kinetics_AVI4516',\n",
    "    kinetic_substrate = 'NSP 4/5',\n",
    "    kinetic_units = 'nM'\n",
    ")\n",
    "exp = HTBAMExperiment(db)\n",
    "exp.get_run_names()  # list available runs"
   ]
  },
  {
   "cell_type": "markdown",
   "id": "7f849355",
   "metadata": {},
   "source": [
    "## 2. Inspect Data objects\n",
    "Retrieve a run; explore its type, indep_vars, dep_var and dep_var_type."
   ]
  },
  {
   "cell_type": "code",
   "execution_count": null,
   "id": "0639e272",
   "metadata": {},
   "outputs": [],
   "source": [
    "raw = exp.get_run('kinetics_AVI4516')\n",
    "type(raw), raw.indep_vars, raw.dep_var.shape, raw.dep_var_type"
   ]
  },
  {
   "cell_type": "markdown",
   "id": "89478b79",
   "metadata": {},
   "source": [
    "## 3. Transform data\n",
    "Use `transform_data` to compute e.g. product concentration or differences."
   ]
  },
  {
   "cell_type": "code",
   "execution_count": null,
   "id": "9464965a",
   "metadata": {},
   "outputs": [],
   "source": [
    "# Example: convert RFU -> concentration using standard curve fits\n",
    "std_fits = exp.get_run('standard_5-FAM_fits')\n",
    "kinetic = exp.get_run('kinetics_AVI4516')\n",
    "\n",
    "# In the transform expression, variables from the first object are prefixed with 'a_' \n",
    "# and from the second with 'b_'\n",
    "prod_conc = transform_data(\n",
    "    data_objs = [kinetic, std_fits], # (objects a, then b)\n",
    "    expr = '(a_luminance - b_intercept) / b_slope',\n",
    "    output_name = 'concentration'\n",
    ")\n",
    "exp.set_run('kinetics_conc', prod_conc)\n",
    "prod_conc.dep_var.shape, prod_conc.dep_var_type"
   ]
  },
  {
   "cell_type": "markdown",
   "id": "5c6f09de",
   "metadata": {},
   "source": [
    "## 4. Fit initial rates & dose–response\n",
    "Fit linear rates over time, then MM or inhibition models."
   ]
  },
  {
   "cell_type": "code",
   "execution_count": null,
   "id": "144115c8",
   "metadata": {},
   "outputs": [],
   "source": [
    "# 4a. fit initial rates\n",
    "rates3d = fit_concentration_vs_time(prod_conc, start_timepoint=1, end_timepoint=6)\n",
    "exp.set_run('initial_rates', rates3d)\n",
    "\n",
    "# 4b. fit IC50\n",
    "ic50_params, ic50_pred = fit_initial_rates_vs_concentration_with_function(\n",
    "    data = rates3d,\n",
    "    model_func = inhibition_model\n",
    ")\n",
    "exp.set_run('ic50_params', ic50_params)\n",
    "exp.set_run('ic50_pred', ic50_pred)"
   ]
  },
  {
   "cell_type": "markdown",
   "id": "633702d2",
   "metadata": {},
   "source": [
    "## 5. Mask out low-quality fits\n",
    "Filter by R² and apply masks."
   ]
  },
  {
   "cell_type": "code",
   "execution_count": null,
   "id": "dd1bd4af",
   "metadata": {},
   "outputs": [],
   "source": [
    "mask = filter_r2_cutoff(exp.get_run('ic50_params'), r2_cutoff=0.75)\n",
    "exp.set_run('ic50_mask', mask)\n",
    "exp.apply_mask(\n",
    "    run_name = 'ic50_params',\n",
    "    dep_variables = ['ic50','r_squared'],\n",
    "    save_as = 'ic50_params_masked',\n",
    "    mask_names = ['ic50_mask']\n",
    ")"
   ]
  },
  {
   "cell_type": "markdown",
   "id": "b9f3a00f",
   "metadata": {},
   "source": [
    "## 6. Plotting with `plot_chip`\n",
    "Visualize standard curves, rates, IC50, and masks."
   ]
  },
  {
   "cell_type": "code",
   "execution_count": null,
   "id": "5a173f81",
   "metadata": {},
   "outputs": [],
   "source": [
    "# standard curve slopes\n",
    "exp.plot_standard_curve_chip('standard_5-FAM_fits', 'standard_5-FAM')\n",
    "\n",
    "# initial rates vs concentration\n",
    "exp.plot_initial_rates_vs_concentration_chip(\n",
    "    analysis_name = 'initial_rates',\n",
    "    model_fit_name = 'ic50_params_masked',\n",
    "    model_pred_data_name = 'ic50_pred',\n",
    "    x_log = True\n",
    ")"
   ]
  },
  {
   "cell_type": "markdown",
   "id": "c093dd78",
   "metadata": {},
   "source": [
    "## 7. Export results to CSV\n",
    "Save masked fit parameters and raw data."
   ]
  },
  {
   "cell_type": "code",
   "execution_count": null,
   "id": "9fa3eed6",
   "metadata": {},
   "outputs": [],
   "source": [
    "exp.export_run_data_raw('ic50_params_masked', output_dir='.')\n",
    "exp.export_run_data_processed('ic50_params_masked', output_dir='.')"
   ]
  }
 ],
 "metadata": {
  "kernelspec": {
   "display_name": "htbam_sprint",
   "language": "python",
   "name": "python3"
  },
  "language_info": {
   "codemirror_mode": {
    "name": "ipython",
    "version": 3
   },
   "file_extension": ".py",
   "mimetype": "text/x-python",
   "name": "python",
   "nbconvert_exporter": "python",
   "pygments_lexer": "ipython3",
   "version": "3.9.22"
  }
 },
 "nbformat": 4,
 "nbformat_minor": 5
}
