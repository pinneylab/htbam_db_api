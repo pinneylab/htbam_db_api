{
 "cells": [
  {
   "cell_type": "markdown",
   "metadata": {},
   "source": [
    "# Analysis Template: Inhibition\n",
    "Updated 6/4/25 NF"
   ]
  },
  {
   "cell_type": "code",
   "execution_count": 1,
   "metadata": {},
   "outputs": [],
   "source": [
    "#enables autoreloding of modules\n",
    "%load_ext autoreload\n",
    "%autoreload 2\n",
    "\n",
    "from htbam_db_api.htbam_db_api import LocalHtbamDBAPI\n",
    "from htbam_analysis.analysis.experiment import HTBAMExperiment\n",
    "\n",
    "#enable inline plotting of matplotlib figures\n",
    "%matplotlib inline\n",
    "\n",
    "#set the figure format to SVG\n",
    "%config InlineBackend.figure_format = 'svg'"
   ]
  },
  {
   "cell_type": "markdown",
   "metadata": {},
   "source": [
    "## 1. Connect DB Api"
   ]
  },
  {
   "cell_type": "code",
   "execution_count": 2,
   "metadata": {},
   "outputs": [
    {
     "name": "stdout",
     "output_type": "stream",
     "text": [
      "\n",
      "Connected to database.\n",
      "Experiment found with the following runs:\n",
      "['standard_5-FAM', 'kinetics_AVI4516', 'button_quant']\n"
     ]
    }
   ],
   "source": [
    "### PARAMETERS:\n",
    "EGFP_SLOPE = 91900.03\n",
    "EGFP_SLOPE_CONC_UNITS = 'nM' #RFU/nM\n",
    "\n",
    "root = './ic50_data/'\n",
    "db_conn = LocalHtbamDBAPI(\n",
    "    standard_curve_data_path= root + 'd3_2_StandardSeries_Analysis.csv',\n",
    "    standard_name=\"standard_5-FAM\", \n",
    "    standard_substrate=\"5-FAM\", \n",
    "    standard_units=\"uM\",\n",
    "    kinetic_data_path= root+ 'd3_TitrationSeries_Analysis.csv',\n",
    "    kinetic_name=\"kinetics_AVI4516\", \n",
    "    kinetic_substrate=\"NSP 4/5\", \n",
    "    kinetic_units=\"nM\")\n",
    "\n",
    "htbam_experiment = HTBAMExperiment(db_conn)"
   ]
  },
  {
   "cell_type": "markdown",
   "metadata": {},
   "source": [
    "## 2. Enzyme Quant"
   ]
  },
  {
   "cell_type": "code",
   "execution_count": 3,
   "metadata": {},
   "outputs": [
    {
     "name": "stdout",
     "output_type": "stream",
     "text": [
      "Existing run data not found. Fetching from database.\n",
      "Transforming 1 objects of type [<class 'htbam_db_api.data.Data2D'>] with shapes [(1792, 1)].\n"
     ]
    }
   ],
   "source": [
    "from htbam_analysis.analysis.transform import transform_data\n",
    "\n",
    "button_concentrations = transform_data(\n",
    "    data_objs = [htbam_experiment.get_run('button_quant')],              # e.g. a Data2D or Data3D or Data4D instance\n",
    "    expr=f'(a_luminance / {EGFP_SLOPE})',             # e.g. \"(luminance - intercept) / slope\"\n",
    "    output_name='concentration'       # name of the new field, e.g. \"concentration\"\n",
    ")\n",
    "\n",
    "htbam_experiment.set_run('enzyme_concentrations', button_concentrations)     # save the fit results"
   ]
  },
  {
   "cell_type": "code",
   "execution_count": 4,
   "metadata": {},
   "outputs": [],
   "source": [
    "# from htbam_analysis.analysis.fitting import transform_data\n",
    "\n",
    "# button_quant_data = htbam_experiment.get_run('button_quant')  # retrieve our button quant data\n",
    "# button_concentrations = transform_data(button_quant_data, \n",
    "#                                        apply_to='luminance',\n",
    "#                                        store_as='concentration',\n",
    "#                                        function = lambda x: x / EGFP_SLOPE,  # convert RFU to nM\n",
    "#                                        flatten = False,\n",
    "#                                        data_type = 'concentration_data')                       # flatten array from (n_conc, n_time, n_chambers) to (n_chambers)\n",
    "# htbam_experiment.set_run('enzyme_concentrations', button_concentrations)     # save the fit results"
   ]
  },
  {
   "cell_type": "code",
   "execution_count": 5,
   "metadata": {},
   "outputs": [
    {
     "data": {
      "text/html": [
       "\n",
       "        <iframe\n",
       "            width=\"100%\"\n",
       "            height=\"650\"\n",
       "            src=\"http://127.0.0.1:8050/\"\n",
       "            frameborder=\"0\"\n",
       "            allowfullscreen\n",
       "            \n",
       "        ></iframe>\n",
       "        "
      ],
      "text/plain": [
       "<IPython.lib.display.IFrame at 0x7f004822c910>"
      ]
     },
     "metadata": {},
     "output_type": "display_data"
    }
   ],
   "source": [
    "htbam_experiment.plot_enzyme_concentration_chip(analysis_name='enzyme_concentrations', units=EGFP_SLOPE_CONC_UNITS)"
   ]
  },
  {
   "cell_type": "markdown",
   "metadata": {},
   "source": [
    "## 2. Product Standards"
   ]
  },
  {
   "cell_type": "code",
   "execution_count": 7,
   "metadata": {},
   "outputs": [
    {
     "name": "stdout",
     "output_type": "stream",
     "text": [
      "Fit slopes for 1792 wells.\n",
      "Elapsed 2.188 seconds.\n"
     ]
    }
   ],
   "source": [
    "from htbam_analysis.analysis.fit import fit_luminance_vs_concentration\n",
    "\n",
    "# For demonstration purposes, I'm doing this in 3 lines\n",
    "# we can either keep it \"exposed\" like this (might be useful?)\n",
    "# Or provide a simple wrapper fx that looks like:\n",
    "# htbam_experiment.fit_standard_curve(experiment_name = 'standard_5-FAM', analysis_name='htbam_experiment')\n",
    "\n",
    "standard_experiment_data = htbam_experiment.get_run('standard_5-FAM')       # retrieve our raw data\n",
    "standard_fits = fit_luminance_vs_concentration(standard_experiment_data)    # perform a fit\n",
    "htbam_experiment.set_run('standard_5-FAM_fits', standard_fits)              # save the fit results"
   ]
  },
  {
   "cell_type": "code",
   "execution_count": 8,
   "metadata": {},
   "outputs": [
    {
     "data": {
      "text/html": [
       "\n",
       "        <iframe\n",
       "            width=\"100%\"\n",
       "            height=\"650\"\n",
       "            src=\"http://127.0.0.1:8050/\"\n",
       "            frameborder=\"0\"\n",
       "            allowfullscreen\n",
       "            \n",
       "        ></iframe>\n",
       "        "
      ],
      "text/plain": [
       "<IPython.lib.display.IFrame at 0x7f00482b8b20>"
      ]
     },
     "metadata": {},
     "output_type": "display_data"
    }
   ],
   "source": [
    "htbam_experiment.plot_standard_curve_chip('standard_5-FAM_fits', 'standard_5-FAM')"
   ]
  },
  {
   "cell_type": "markdown",
   "metadata": {},
   "source": [
    "## 3. Fit Initial Rates"
   ]
  },
  {
   "cell_type": "code",
   "execution_count": 9,
   "metadata": {},
   "outputs": [
    {
     "name": "stdout",
     "output_type": "stream",
     "text": [
      "Existing run data not found. Fetching from database.\n",
      "Transforming 2 objects of type [<class 'htbam_db_api.data.Data4D'>, <class 'htbam_db_api.data.Data2D'>] with shapes [(12, 21, 1792, 1), (1792, 3)].\n"
     ]
    }
   ],
   "source": [
    "# Calculate product concentrations from RFU data:\n",
    "product_concentrations = transform_data(\n",
    "    data_objs = [htbam_experiment.get_run('kinetics_AVI4516'), htbam_experiment.get_run('standard_5-FAM_fits')],\n",
    "    expr=f'(a_luminance - b_intercept) / b_slope',             # e.g. \"(luminance - intercept) / slope\"\n",
    "    output_name='concentration'       # name of the new field, e.g. \"concentration\"\n",
    ")\n",
    "\n",
    "htbam_experiment.set_run('kinetics_AVI4516_conc', product_concentrations)"
   ]
  },
  {
   "cell_type": "code",
   "execution_count": 10,
   "metadata": {},
   "outputs": [
    {
     "name": "stdout",
     "output_type": "stream",
     "text": [
      "Fit slopes for 1792 wells at 12 concentrations.\n",
      "Elapsed 0.057 seconds.\n"
     ]
    }
   ],
   "source": [
    "from htbam_analysis.analysis.fit import fit_concentration_vs_time\n",
    "\n",
    "kinetics_concentrations = htbam_experiment.get_run('kinetics_AVI4516_conc')       # retrieve our raw data\n",
    "kinetics_fits = fit_concentration_vs_time(kinetics_concentrations, start_timepoint = 1, end_timepoint=6)      # perform a fit, skipping the first timepoint\n",
    "htbam_experiment.set_run('kinetics_AVI4516_conc_fits', kinetics_fits)                # save the fit results"
   ]
  },
  {
   "cell_type": "code",
   "execution_count": 18,
   "metadata": {},
   "outputs": [
    {
     "name": "stderr",
     "output_type": "stream",
     "text": [
      "/home/freitas/workspace/htbam_sprint/htbam_analysis/src/htbam_analysis/analysis/experiment.py:228: RuntimeWarning:\n",
      "\n",
      "Mean of empty slice\n",
      "\n"
     ]
    },
    {
     "data": {
      "text/html": [
       "\n",
       "        <iframe\n",
       "            width=\"100%\"\n",
       "            height=\"650\"\n",
       "            src=\"http://127.0.0.1:8050/\"\n",
       "            frameborder=\"0\"\n",
       "            allowfullscreen\n",
       "            \n",
       "        ></iframe>\n",
       "        "
      ],
      "text/plain": [
       "<IPython.lib.display.IFrame at 0x7f0047eaf970>"
      ]
     },
     "metadata": {},
     "output_type": "display_data"
    }
   ],
   "source": [
    "htbam_experiment.plot_initial_rates_chip(analysis_name='kinetics_AVI4516_conc_fits', experiment_name='kinetics_AVI4516_conc')#, remove_0_point=True) # plot the initial rates"
   ]
  },
  {
   "cell_type": "markdown",
   "metadata": {},
   "source": [
    "## 4. Filter initial rates"
   ]
  },
  {
   "cell_type": "code",
   "execution_count": 16,
   "metadata": {},
   "outputs": [],
   "source": [
    "# These are the \"Masks\" we use to select which data we want.\n",
    "\n",
    "from htbam_analysis.analysis.filter import filter_expression_cutoff, filter_initial_rates_positive_cutoff, filter_initial_rates_r2_cutoff, filter_standard_curve_r2_cutoff\n",
    "\n",
    "kinetics_fits = htbam_experiment.get_run('kinetics_AVI4516_conc_fits')       # retrieve our raw data\n",
    "\n",
    "# Initial Rates:\n",
    "initial_rates_r2_mask =         filter_initial_rates_r2_cutoff(kinetics_fits, r2_cutoff=0.8) # 0.9 R2\n",
    "initial_rates_positive_mask =   filter_initial_rates_positive_cutoff(kinetics_fits)          # positive slope\n",
    "\n",
    "# Standard Curve:\n",
    "standard_curve_r2_mask =        filter_standard_curve_r2_cutoff(standard_fits, kinetics_fits, r2_cutoff=0.9) # 0.9 R2\n",
    "\n",
    "# Expression:\n",
    "expression_mask =               filter_expression_cutoff(button_concentrations, kinetics_fits, expression_cutoff=1) # 1 nM\n",
    "\n",
    "# Save the masks to the experiment\n",
    "htbam_experiment.set_run('initial_rates_r2_mask', initial_rates_r2_mask)\n",
    "htbam_experiment.set_run('initial_rates_positive_mask', initial_rates_positive_mask)\n",
    "htbam_experiment.set_run('standard_curve_r2_mask', standard_curve_r2_mask)\n",
    "htbam_experiment.set_run('expression_mask', expression_mask)\n",
    "\n"
   ]
  },
  {
   "cell_type": "code",
   "execution_count": 92,
   "metadata": {},
   "outputs": [
    {
     "data": {
      "text/plain": [
       "(12, 1792, 1)"
      ]
     },
     "execution_count": 92,
     "metadata": {},
     "output_type": "execute_result"
    }
   ],
   "source": [
    "initial_rates_r2_mask.dep_var.shape"
   ]
  },
  {
   "cell_type": "code",
   "execution_count": 116,
   "metadata": {},
   "outputs": [
    {
     "data": {
      "text/html": [
       "\n",
       "        <iframe\n",
       "            width=\"100%\"\n",
       "            height=\"650\"\n",
       "            src=\"http://127.0.0.1:8050/\"\n",
       "            frameborder=\"0\"\n",
       "            allowfullscreen\n",
       "            \n",
       "        ></iframe>\n",
       "        "
      ],
      "text/plain": [
       "<IPython.lib.display.IFrame at 0x7f00498c8a30>"
      ]
     },
     "metadata": {},
     "output_type": "display_data"
    }
   ],
   "source": [
    "# Plot the masks (Do one at a time)\n",
    "#htbam_experiment.plot_mask_chip(mask_name='initial_rates_r2_mask')\n",
    "htbam_experiment.plot_mask_chip(mask_name='initial_rates_positive_mask')\n",
    "#htbam_experiment.plot_mask_chip(mask_name='standard_curve_r2_mask')\n",
    "#htbam_experiment.plot_mask_chip(mask_name='expression_mask')"
   ]
  },
  {
   "cell_type": "code",
   "execution_count": 30,
   "metadata": {},
   "outputs": [],
   "source": [
    "# Apply the masks to the fits and save the results\n",
    "htbam_experiment.apply_mask(run_name='kinetics_AVI4516_conc_fits', \n",
    "                            dep_variables = ['slope', 'intercept'], \n",
    "                            save_as = 'kinetics_AVI4516_conc_fits_masked',\n",
    "                            mask_names = ['initial_rates_r2_mask', 'initial_rates_positive_mask', 'standard_curve_r2_mask', 'expression_mask'])\n"
   ]
  },
  {
   "cell_type": "code",
   "execution_count": 31,
   "metadata": {},
   "outputs": [
    {
     "name": "stderr",
     "output_type": "stream",
     "text": [
      "/home/freitas/workspace/htbam_sprint/htbam_analysis/src/htbam_analysis/analysis/experiment.py:229: RuntimeWarning:\n",
      "\n",
      "Mean of empty slice\n",
      "\n"
     ]
    },
    {
     "data": {
      "text/html": [
       "\n",
       "        <iframe\n",
       "            width=\"100%\"\n",
       "            height=\"650\"\n",
       "            src=\"http://127.0.0.1:8050/\"\n",
       "            frameborder=\"0\"\n",
       "            allowfullscreen\n",
       "            \n",
       "        ></iframe>\n",
       "        "
      ],
      "text/plain": [
       "<IPython.lib.display.IFrame at 0x7f0013dabdf0>"
      ]
     },
     "metadata": {},
     "output_type": "display_data"
    }
   ],
   "source": [
    "htbam_experiment.plot_initial_rates_chip(analysis_name='kinetics_AVI4516_conc_fits_masked', experiment_name='kinetics_AVI4516_conc')#, remove_0_point=True) # plot the initial rates"
   ]
  },
  {
   "cell_type": "code",
   "execution_count": 76,
   "metadata": {},
   "outputs": [
    {
     "name": "stderr",
     "output_type": "stream",
     "text": [
      "/home/freitas/workspace/htbam_sprint/htbam_analysis/src/htbam_analysis/analysis/experiment.py:286: RuntimeWarning:\n",
      "\n",
      "Mean of empty slice\n",
      "\n"
     ]
    },
    {
     "data": {
      "text/html": [
       "\n",
       "        <iframe\n",
       "            width=\"100%\"\n",
       "            height=\"650\"\n",
       "            src=\"http://127.0.0.1:8050/\"\n",
       "            frameborder=\"0\"\n",
       "            allowfullscreen\n",
       "            \n",
       "        ></iframe>\n",
       "        "
      ],
      "text/plain": [
       "<IPython.lib.display.IFrame at 0x7f0048dd1730>"
      ]
     },
     "metadata": {},
     "output_type": "display_data"
    }
   ],
   "source": [
    "htbam_experiment.plot_initial_rates_vs_concentration_chip(analysis_name='kinetics_AVI4516_conc_fits_masked', x_log=True) # plot the initial rates"
   ]
  },
  {
   "cell_type": "markdown",
   "metadata": {},
   "source": [
    "## 5. Fit Inhibition Constant:"
   ]
  },
  {
   "cell_type": "code",
   "execution_count": 57,
   "metadata": {},
   "outputs": [
    {
     "name": "stdout",
     "output_type": "stream",
     "text": [
      "Successfully fit nonlinear model for 973 wells.\n",
      "Elapsed 1.005 seconds.\n"
     ]
    }
   ],
   "source": [
    "# I've written MM here, but it will be IC50\n",
    "from htbam_analysis.analysis.fit import fit_initial_rates_vs_concentration_with_function, mm_model, inhibition_model\n",
    "\n",
    "kinetics_fits_masked = htbam_experiment.get_run('kinetics_AVI4516_conc_fits_masked')       # retrieve our raw data\n",
    "IC50_fits, IC50_pred_data = fit_initial_rates_vs_concentration_with_function(data = kinetics_fits_masked,\n",
    "                                model_func = inhibition_model)\n",
    "htbam_experiment.set_run('kinetics_AVI4516_IC50_fits', IC50_fits)                # save the fit results\n",
    "htbam_experiment.set_run('kinetics_AVI4516_IC50_pred_data', IC50_pred_data)    # save the predicted data"
   ]
  },
  {
   "cell_type": "code",
   "execution_count": 117,
   "metadata": {},
   "outputs": [
    {
     "data": {
      "text/html": [
       "\n",
       "        <iframe\n",
       "            width=\"100%\"\n",
       "            height=\"650\"\n",
       "            src=\"http://127.0.0.1:8050/\"\n",
       "            frameborder=\"0\"\n",
       "            allowfullscreen\n",
       "            \n",
       "        ></iframe>\n",
       "        "
      ],
      "text/plain": [
       "<IPython.lib.display.IFrame at 0x7f001041b1f0>"
      ]
     },
     "metadata": {},
     "output_type": "display_data"
    },
    {
     "name": "stderr",
     "output_type": "stream",
     "text": [
      "[2025-06-06 17:36:06,853] ERROR in app: Exception on /_dash-update-component [POST]\n",
      "Traceback (most recent call last):\n",
      "  File \"/home/freitas/miniforge3/envs/htbam_sprint/lib/python3.9/site-packages/dash/dash.py\", line 1301, in dispatch\n",
      "    cb = self.callback_map[output]\n",
      "KeyError: '..graph-tooltip.show...graph-tooltip.bbox...graph-tooltip.children..'\n",
      "\n",
      "The above exception was the direct cause of the following exception:\n",
      "\n",
      "Traceback (most recent call last):\n",
      "  File \"/home/freitas/miniforge3/envs/htbam_sprint/lib/python3.9/site-packages/flask/app.py\", line 1473, in wsgi_app\n",
      "    response = self.full_dispatch_request()\n",
      "  File \"/home/freitas/miniforge3/envs/htbam_sprint/lib/python3.9/site-packages/flask/app.py\", line 882, in full_dispatch_request\n",
      "    rv = self.handle_user_exception(e)\n",
      "  File \"/home/freitas/miniforge3/envs/htbam_sprint/lib/python3.9/site-packages/flask/app.py\", line 880, in full_dispatch_request\n",
      "    rv = self.dispatch_request()\n",
      "  File \"/home/freitas/miniforge3/envs/htbam_sprint/lib/python3.9/site-packages/flask/app.py\", line 865, in dispatch_request\n",
      "    return self.ensure_sync(self.view_functions[rule.endpoint])(**view_args)  # type: ignore[no-any-return]\n",
      "  File \"/home/freitas/miniforge3/envs/htbam_sprint/lib/python3.9/site-packages/dash/dash.py\", line 1371, in dispatch\n",
      "    raise KeyError(msg) from missing_callback_function\n",
      "KeyError: \"Callback function not found for output '..graph-tooltip.show...graph-tooltip.bbox...graph-tooltip.children..', perhaps you forgot to prepend the '@'?\"\n",
      "[2025-06-06 17:36:06,910] ERROR in app: Exception on /_dash-update-component [POST]\n",
      "Traceback (most recent call last):\n",
      "  File \"/home/freitas/miniforge3/envs/htbam_sprint/lib/python3.9/site-packages/dash/dash.py\", line 1301, in dispatch\n",
      "    cb = self.callback_map[output]\n",
      "KeyError: '..graph-tooltip.show...graph-tooltip.bbox...graph-tooltip.children..'\n",
      "\n",
      "The above exception was the direct cause of the following exception:\n",
      "\n",
      "Traceback (most recent call last):\n",
      "  File \"/home/freitas/miniforge3/envs/htbam_sprint/lib/python3.9/site-packages/flask/app.py\", line 1473, in wsgi_app\n",
      "    response = self.full_dispatch_request()\n",
      "  File \"/home/freitas/miniforge3/envs/htbam_sprint/lib/python3.9/site-packages/flask/app.py\", line 882, in full_dispatch_request\n",
      "    rv = self.handle_user_exception(e)\n",
      "  File \"/home/freitas/miniforge3/envs/htbam_sprint/lib/python3.9/site-packages/flask/app.py\", line 880, in full_dispatch_request\n",
      "    rv = self.dispatch_request()\n",
      "  File \"/home/freitas/miniforge3/envs/htbam_sprint/lib/python3.9/site-packages/flask/app.py\", line 865, in dispatch_request\n",
      "    return self.ensure_sync(self.view_functions[rule.endpoint])(**view_args)  # type: ignore[no-any-return]\n",
      "  File \"/home/freitas/miniforge3/envs/htbam_sprint/lib/python3.9/site-packages/dash/dash.py\", line 1371, in dispatch\n",
      "    raise KeyError(msg) from missing_callback_function\n",
      "KeyError: \"Callback function not found for output '..graph-tooltip.show...graph-tooltip.bbox...graph-tooltip.children..', perhaps you forgot to prepend the '@'?\"\n",
      "[2025-06-06 17:36:07,018] ERROR in app: Exception on /_dash-update-component [POST]\n",
      "Traceback (most recent call last):\n",
      "  File \"/home/freitas/miniforge3/envs/htbam_sprint/lib/python3.9/site-packages/dash/dash.py\", line 1301, in dispatch\n",
      "    cb = self.callback_map[output]\n",
      "KeyError: '..graph-tooltip.show...graph-tooltip.bbox...graph-tooltip.children..'\n",
      "\n",
      "The above exception was the direct cause of the following exception:\n",
      "\n",
      "Traceback (most recent call last):\n",
      "  File \"/home/freitas/miniforge3/envs/htbam_sprint/lib/python3.9/site-packages/flask/app.py\", line 1473, in wsgi_app\n",
      "    response = self.full_dispatch_request()\n",
      "  File \"/home/freitas/miniforge3/envs/htbam_sprint/lib/python3.9/site-packages/flask/app.py\", line 882, in full_dispatch_request\n",
      "    rv = self.handle_user_exception(e)\n",
      "  File \"/home/freitas/miniforge3/envs/htbam_sprint/lib/python3.9/site-packages/flask/app.py\", line 880, in full_dispatch_request\n",
      "    rv = self.dispatch_request()\n",
      "  File \"/home/freitas/miniforge3/envs/htbam_sprint/lib/python3.9/site-packages/flask/app.py\", line 865, in dispatch_request\n",
      "    return self.ensure_sync(self.view_functions[rule.endpoint])(**view_args)  # type: ignore[no-any-return]\n",
      "  File \"/home/freitas/miniforge3/envs/htbam_sprint/lib/python3.9/site-packages/dash/dash.py\", line 1371, in dispatch\n",
      "    raise KeyError(msg) from missing_callback_function\n",
      "KeyError: \"Callback function not found for output '..graph-tooltip.show...graph-tooltip.bbox...graph-tooltip.children..', perhaps you forgot to prepend the '@'?\"\n",
      "[2025-06-06 17:36:07,193] ERROR in app: Exception on /_dash-update-component [POST]\n",
      "Traceback (most recent call last):\n",
      "  File \"/home/freitas/miniforge3/envs/htbam_sprint/lib/python3.9/site-packages/dash/dash.py\", line 1301, in dispatch\n",
      "    cb = self.callback_map[output]\n",
      "KeyError: '..graph-tooltip.show...graph-tooltip.bbox...graph-tooltip.children..'\n",
      "\n",
      "The above exception was the direct cause of the following exception:\n",
      "\n",
      "Traceback (most recent call last):\n",
      "  File \"/home/freitas/miniforge3/envs/htbam_sprint/lib/python3.9/site-packages/flask/app.py\", line 1473, in wsgi_app\n",
      "    response = self.full_dispatch_request()\n",
      "  File \"/home/freitas/miniforge3/envs/htbam_sprint/lib/python3.9/site-packages/flask/app.py\", line 882, in full_dispatch_request\n",
      "    rv = self.handle_user_exception(e)\n",
      "  File \"/home/freitas/miniforge3/envs/htbam_sprint/lib/python3.9/site-packages/flask/app.py\", line 880, in full_dispatch_request\n",
      "    rv = self.dispatch_request()\n",
      "  File \"/home/freitas/miniforge3/envs/htbam_sprint/lib/python3.9/site-packages/flask/app.py\", line 865, in dispatch_request\n",
      "    return self.ensure_sync(self.view_functions[rule.endpoint])(**view_args)  # type: ignore[no-any-return]\n",
      "  File \"/home/freitas/miniforge3/envs/htbam_sprint/lib/python3.9/site-packages/dash/dash.py\", line 1371, in dispatch\n",
      "    raise KeyError(msg) from missing_callback_function\n",
      "KeyError: \"Callback function not found for output '..graph-tooltip.show...graph-tooltip.bbox...graph-tooltip.children..', perhaps you forgot to prepend the '@'?\"\n",
      "[2025-06-06 17:36:07,263] ERROR in app: Exception on /_dash-update-component [POST]\n",
      "Traceback (most recent call last):\n",
      "  File \"/home/freitas/miniforge3/envs/htbam_sprint/lib/python3.9/site-packages/dash/dash.py\", line 1301, in dispatch\n",
      "    cb = self.callback_map[output]\n",
      "KeyError: '..graph-tooltip.show...graph-tooltip.bbox...graph-tooltip.children..'\n",
      "\n",
      "The above exception was the direct cause of the following exception:\n",
      "\n",
      "Traceback (most recent call last):\n",
      "  File \"/home/freitas/miniforge3/envs/htbam_sprint/lib/python3.9/site-packages/flask/app.py\", line 1473, in wsgi_app\n",
      "    response = self.full_dispatch_request()\n",
      "  File \"/home/freitas/miniforge3/envs/htbam_sprint/lib/python3.9/site-packages/flask/app.py\", line 882, in full_dispatch_request\n",
      "    rv = self.handle_user_exception(e)\n",
      "  File \"/home/freitas/miniforge3/envs/htbam_sprint/lib/python3.9/site-packages/flask/app.py\", line 880, in full_dispatch_request\n",
      "    rv = self.dispatch_request()\n",
      "  File \"/home/freitas/miniforge3/envs/htbam_sprint/lib/python3.9/site-packages/flask/app.py\", line 865, in dispatch_request\n",
      "    return self.ensure_sync(self.view_functions[rule.endpoint])(**view_args)  # type: ignore[no-any-return]\n",
      "  File \"/home/freitas/miniforge3/envs/htbam_sprint/lib/python3.9/site-packages/dash/dash.py\", line 1371, in dispatch\n",
      "    raise KeyError(msg) from missing_callback_function\n",
      "KeyError: \"Callback function not found for output '..graph-tooltip.show...graph-tooltip.bbox...graph-tooltip.children..', perhaps you forgot to prepend the '@'?\"\n",
      "[2025-06-06 17:36:07,318] ERROR in app: Exception on /_dash-update-component [POST]\n",
      "Traceback (most recent call last):\n",
      "  File \"/home/freitas/miniforge3/envs/htbam_sprint/lib/python3.9/site-packages/dash/dash.py\", line 1301, in dispatch\n",
      "    cb = self.callback_map[output]\n",
      "KeyError: '..graph-tooltip.show...graph-tooltip.bbox...graph-tooltip.children..'\n",
      "\n",
      "The above exception was the direct cause of the following exception:\n",
      "\n",
      "Traceback (most recent call last):\n",
      "  File \"/home/freitas/miniforge3/envs/htbam_sprint/lib/python3.9/site-packages/flask/app.py\", line 1473, in wsgi_app\n",
      "    response = self.full_dispatch_request()\n",
      "  File \"/home/freitas/miniforge3/envs/htbam_sprint/lib/python3.9/site-packages/flask/app.py\", line 882, in full_dispatch_request\n",
      "    rv = self.handle_user_exception(e)\n",
      "  File \"/home/freitas/miniforge3/envs/htbam_sprint/lib/python3.9/site-packages/flask/app.py\", line 880, in full_dispatch_request\n",
      "    rv = self.dispatch_request()\n",
      "  File \"/home/freitas/miniforge3/envs/htbam_sprint/lib/python3.9/site-packages/flask/app.py\", line 865, in dispatch_request\n",
      "    return self.ensure_sync(self.view_functions[rule.endpoint])(**view_args)  # type: ignore[no-any-return]\n",
      "  File \"/home/freitas/miniforge3/envs/htbam_sprint/lib/python3.9/site-packages/dash/dash.py\", line 1371, in dispatch\n",
      "    raise KeyError(msg) from missing_callback_function\n",
      "KeyError: \"Callback function not found for output '..graph-tooltip.show...graph-tooltip.bbox...graph-tooltip.children..', perhaps you forgot to prepend the '@'?\"\n",
      "[2025-06-06 17:36:07,488] ERROR in app: Exception on /_dash-update-component [POST]\n",
      "Traceback (most recent call last):\n",
      "  File \"/home/freitas/miniforge3/envs/htbam_sprint/lib/python3.9/site-packages/dash/dash.py\", line 1301, in dispatch\n",
      "    cb = self.callback_map[output]\n",
      "KeyError: '..graph-tooltip.show...graph-tooltip.bbox...graph-tooltip.children..'\n",
      "\n",
      "The above exception was the direct cause of the following exception:\n",
      "\n",
      "Traceback (most recent call last):\n",
      "  File \"/home/freitas/miniforge3/envs/htbam_sprint/lib/python3.9/site-packages/flask/app.py\", line 1473, in wsgi_app\n",
      "    response = self.full_dispatch_request()\n",
      "  File \"/home/freitas/miniforge3/envs/htbam_sprint/lib/python3.9/site-packages/flask/app.py\", line 882, in full_dispatch_request\n",
      "    rv = self.handle_user_exception(e)\n",
      "  File \"/home/freitas/miniforge3/envs/htbam_sprint/lib/python3.9/site-packages/flask/app.py\", line 880, in full_dispatch_request\n",
      "    rv = self.dispatch_request()\n",
      "  File \"/home/freitas/miniforge3/envs/htbam_sprint/lib/python3.9/site-packages/flask/app.py\", line 865, in dispatch_request\n",
      "    return self.ensure_sync(self.view_functions[rule.endpoint])(**view_args)  # type: ignore[no-any-return]\n",
      "  File \"/home/freitas/miniforge3/envs/htbam_sprint/lib/python3.9/site-packages/dash/dash.py\", line 1371, in dispatch\n",
      "    raise KeyError(msg) from missing_callback_function\n",
      "KeyError: \"Callback function not found for output '..graph-tooltip.show...graph-tooltip.bbox...graph-tooltip.children..', perhaps you forgot to prepend the '@'?\"\n",
      "[2025-06-06 17:36:08,803] ERROR in app: Exception on /_dash-update-component [POST]\n",
      "Traceback (most recent call last):\n",
      "  File \"/home/freitas/miniforge3/envs/htbam_sprint/lib/python3.9/site-packages/dash/dash.py\", line 1301, in dispatch\n",
      "    cb = self.callback_map[output]\n",
      "KeyError: 'side-panel.children'\n",
      "\n",
      "The above exception was the direct cause of the following exception:\n",
      "\n",
      "Traceback (most recent call last):\n",
      "  File \"/home/freitas/miniforge3/envs/htbam_sprint/lib/python3.9/site-packages/flask/app.py\", line 1473, in wsgi_app\n",
      "    response = self.full_dispatch_request()\n",
      "  File \"/home/freitas/miniforge3/envs/htbam_sprint/lib/python3.9/site-packages/flask/app.py\", line 882, in full_dispatch_request\n",
      "    rv = self.handle_user_exception(e)\n",
      "  File \"/home/freitas/miniforge3/envs/htbam_sprint/lib/python3.9/site-packages/flask/app.py\", line 880, in full_dispatch_request\n",
      "    rv = self.dispatch_request()\n",
      "  File \"/home/freitas/miniforge3/envs/htbam_sprint/lib/python3.9/site-packages/flask/app.py\", line 865, in dispatch_request\n",
      "    return self.ensure_sync(self.view_functions[rule.endpoint])(**view_args)  # type: ignore[no-any-return]\n",
      "  File \"/home/freitas/miniforge3/envs/htbam_sprint/lib/python3.9/site-packages/dash/dash.py\", line 1371, in dispatch\n",
      "    raise KeyError(msg) from missing_callback_function\n",
      "KeyError: \"Callback function not found for output 'side-panel.children', perhaps you forgot to prepend the '@'?\"\n",
      "[2025-06-06 17:36:10,173] ERROR in app: Exception on /_dash-update-component [POST]\n",
      "Traceback (most recent call last):\n",
      "  File \"/home/freitas/miniforge3/envs/htbam_sprint/lib/python3.9/site-packages/dash/dash.py\", line 1301, in dispatch\n",
      "    cb = self.callback_map[output]\n",
      "KeyError: '..graph-tooltip.show...graph-tooltip.bbox...graph-tooltip.children..'\n",
      "\n",
      "The above exception was the direct cause of the following exception:\n",
      "\n",
      "Traceback (most recent call last):\n",
      "  File \"/home/freitas/miniforge3/envs/htbam_sprint/lib/python3.9/site-packages/flask/app.py\", line 1473, in wsgi_app\n",
      "    response = self.full_dispatch_request()\n",
      "  File \"/home/freitas/miniforge3/envs/htbam_sprint/lib/python3.9/site-packages/flask/app.py\", line 882, in full_dispatch_request\n",
      "    rv = self.handle_user_exception(e)\n",
      "  File \"/home/freitas/miniforge3/envs/htbam_sprint/lib/python3.9/site-packages/flask/app.py\", line 880, in full_dispatch_request\n",
      "    rv = self.dispatch_request()\n",
      "  File \"/home/freitas/miniforge3/envs/htbam_sprint/lib/python3.9/site-packages/flask/app.py\", line 865, in dispatch_request\n",
      "    return self.ensure_sync(self.view_functions[rule.endpoint])(**view_args)  # type: ignore[no-any-return]\n",
      "  File \"/home/freitas/miniforge3/envs/htbam_sprint/lib/python3.9/site-packages/dash/dash.py\", line 1371, in dispatch\n",
      "    raise KeyError(msg) from missing_callback_function\n",
      "KeyError: \"Callback function not found for output '..graph-tooltip.show...graph-tooltip.bbox...graph-tooltip.children..', perhaps you forgot to prepend the '@'?\"\n"
     ]
    }
   ],
   "source": [
    "from htbam_analysis.analysis.filter import filter_r2_cutoff\n",
    "# Filter out crappy R2 values: \n",
    "IC50_fits = htbam_experiment.get_run('kinetics_AVI4516_IC50_fits')\n",
    "IC50_fits_mask = filter_r2_cutoff(IC50_fits, r2_cutoff=0.75)  # 0.8 R2\n",
    "\n",
    "htbam_experiment.set_run('IC50_R2_mask', IC50_fits_mask)  # save the fit results\n",
    "\n",
    "htbam_experiment.plot_mask_chip(mask_name='IC50_R2_mask')"
   ]
  },
  {
   "cell_type": "code",
   "execution_count": 104,
   "metadata": {},
   "outputs": [],
   "source": [
    "# Apply the mask to the fits and save the results:\n",
    "htbam_experiment.apply_mask(run_name='kinetics_AVI4516_IC50_fits', \n",
    "                            dep_variables = ['r_min', 'r_max', 'ic50'], \n",
    "                            save_as = 'kinetics_AVI4516_IC50_fits_masked',\n",
    "                            mask_names = ['IC50_R2_mask'])"
   ]
  },
  {
   "cell_type": "code",
   "execution_count": 129,
   "metadata": {},
   "outputs": [
    {
     "data": {
      "text/html": [
       "\n",
       "        <iframe\n",
       "            width=\"100%\"\n",
       "            height=\"650\"\n",
       "            src=\"http://127.0.0.1:8050/\"\n",
       "            frameborder=\"0\"\n",
       "            allowfullscreen\n",
       "            \n",
       "        ></iframe>\n",
       "        "
      ],
      "text/plain": [
       "<IPython.lib.display.IFrame at 0x7f0002ac7430>"
      ]
     },
     "metadata": {},
     "output_type": "display_data"
    },
    {
     "name": "stderr",
     "output_type": "stream",
     "text": [
      "/home/freitas/workspace/htbam_sprint/htbam_analysis/src/htbam_analysis/analysis/experiment.py:366: RuntimeWarning:\n",
      "\n",
      "All-NaN slice encountered\n",
      "\n",
      "/home/freitas/workspace/htbam_sprint/htbam_analysis/src/htbam_analysis/analysis/experiment.py:367: RuntimeWarning:\n",
      "\n",
      "All-NaN slice encountered\n",
      "\n"
     ]
    }
   ],
   "source": [
    "htbam_experiment.plot_ic50_chip(analysis_name='kinetics_AVI4516_conc_fits_masked', \n",
    "                                model_fit_name='kinetics_AVI4516_IC50_fits_masked',\n",
    "                                model_pred_data_name='kinetics_AVI4516_IC50_pred_data',\n",
    "                                x_log=True) # plot the initial rates"
   ]
  },
  {
   "cell_type": "code",
   "execution_count": null,
   "metadata": {},
   "outputs": [
    {
     "name": "stdout",
     "output_type": "stream",
     "text": [
      "Run data exported to /home/freitas/workspace/htbam_sprint/htbam_db_api/examples/kinetics_AVI4516_IC50_fits_masked_data.csv\n"
     ]
    },
    {
     "ename": "AssertionError",
     "evalue": "run_data must be of type Data2D.",
     "output_type": "error",
     "traceback": [
      "\u001b[0;31m---------------------------------------------------------------------------\u001b[0m",
      "\u001b[0;31mAssertionError\u001b[0m                            Traceback (most recent call last)",
      "Cell \u001b[0;32mIn[132], line 2\u001b[0m\n\u001b[1;32m      1\u001b[0m htbam_experiment\u001b[38;5;241m.\u001b[39mexport_run_data_raw(run_name\u001b[38;5;241m=\u001b[39m\u001b[38;5;124m'\u001b[39m\u001b[38;5;124mkinetics_AVI4516_IC50_fits_masked\u001b[39m\u001b[38;5;124m'\u001b[39m)\n\u001b[0;32m----> 2\u001b[0m \u001b[43mhtbam_experiment\u001b[49m\u001b[38;5;241;43m.\u001b[39;49m\u001b[43mexport_run_data_processed\u001b[49m\u001b[43m(\u001b[49m\u001b[43mrun_name\u001b[49m\u001b[38;5;241;43m=\u001b[39;49m\u001b[38;5;124;43m'\u001b[39;49m\u001b[38;5;124;43mkinetics_AVI4516_conc_fits_masked\u001b[39;49m\u001b[38;5;124;43m'\u001b[39;49m\u001b[43m)\u001b[49m\n",
      "File \u001b[0;32m~/workspace/htbam_sprint/htbam_analysis/src/htbam_analysis/analysis/experiment.py:532\u001b[0m, in \u001b[0;36mHTBAMExperiment.export_run_data_processed\u001b[0;34m(self, run_name, output_dir)\u001b[0m\n\u001b[1;32m    523\u001b[0m \u001b[38;5;250m\u001b[39m\u001b[38;5;124;03m'''\u001b[39;00m\n\u001b[1;32m    524\u001b[0m \u001b[38;5;124;03mExport per-sample data to a CSV file, for Data2D objects.\u001b[39;00m\n\u001b[1;32m    525\u001b[0m \u001b[38;5;124;03mInput:\u001b[39;00m\n\u001b[0;32m   (...)\u001b[0m\n\u001b[1;32m    529\u001b[0m \u001b[38;5;124;03m    None\u001b[39;00m\n\u001b[1;32m    530\u001b[0m \u001b[38;5;124;03m'''\u001b[39;00m\n\u001b[1;32m    531\u001b[0m run_data \u001b[38;5;241m=\u001b[39m \u001b[38;5;28mself\u001b[39m\u001b[38;5;241m.\u001b[39mget_run(run_name)\n\u001b[0;32m--> 532\u001b[0m \u001b[38;5;28;01massert\u001b[39;00m \u001b[38;5;28misinstance\u001b[39m(run_data, Data2D), \u001b[38;5;124m\"\u001b[39m\u001b[38;5;124mrun_data must be of type Data2D.\u001b[39m\u001b[38;5;124m\"\u001b[39m\n\u001b[1;32m    534\u001b[0m sample_IDs \u001b[38;5;241m=\u001b[39m run_data\u001b[38;5;241m.\u001b[39mindep_vars\u001b[38;5;241m.\u001b[39msample_IDs\n\u001b[1;32m    535\u001b[0m chamber_IDs \u001b[38;5;241m=\u001b[39m run_data\u001b[38;5;241m.\u001b[39mindep_vars\u001b[38;5;241m.\u001b[39mchamber_IDs\n",
      "\u001b[0;31mAssertionError\u001b[0m: run_data must be of type Data2D."
     ]
    }
   ],
   "source": [
    "htbam_experiment.export_run_data_raw(run_name='kinetics_AVI4516_IC50_fits_masked')\n",
    "htbam_experiment.export_run_data_processed(run_name='kinetics_AVI4516_IC50_fits_masked')"
   ]
  },
  {
   "cell_type": "code",
   "execution_count": null,
   "metadata": {},
   "outputs": [],
   "source": [
    "elapsed = time.time() - start\n",
    "print(f\"Elapsed time: {elapsed:.2f} seconds\")"
   ]
  },
  {
   "cell_type": "code",
   "execution_count": null,
   "metadata": {},
   "outputs": [],
   "source": [
    "# TOD"
   ]
  },
  {
   "cell_type": "code",
   "execution_count": null,
   "metadata": {},
   "outputs": [],
   "source": [
    "#htbam_experiment.plot_MM_chip('kinetics_AVI4516_MM', show_average_fit=True)"
   ]
  },
  {
   "cell_type": "markdown",
   "metadata": {},
   "source": [
    "## 6. Export to CSV"
   ]
  },
  {
   "cell_type": "code",
   "execution_count": null,
   "metadata": {},
   "outputs": [],
   "source": [
    "#htbam_experiment.export_ic50_result_csv(path_to_save=root,\n",
    "#                                        run_name='kinetics_0')"
   ]
  }
 ],
 "metadata": {
  "kernelspec": {
   "display_name": "htbam_sprint",
   "language": "python",
   "name": "python3"
  },
  "language_info": {
   "codemirror_mode": {
    "name": "ipython",
    "version": 3
   },
   "file_extension": ".py",
   "mimetype": "text/x-python",
   "name": "python",
   "nbconvert_exporter": "python",
   "pygments_lexer": "ipython3",
   "version": "3.9.22"
  }
 },
 "nbformat": 4,
 "nbformat_minor": 4
}
