{
 "cells": [
  {
   "cell_type": "markdown",
   "metadata": {},
   "source": [
    "# Analysis Template: Inhibition\n",
    "Updated 5/6/24 DFM"
   ]
  },
  {
   "cell_type": "code",
   "execution_count": 1,
   "metadata": {},
   "outputs": [],
   "source": [
    "#enables autoreloding of modules\n",
    "%load_ext autoreload\n",
    "%autoreload 2\n",
    "\n",
    "from htbam_db_api.htbam_db_api import LocalHtbamDBAPI\n",
    "from htbam_analysis.analysis.experiment import HTBAMExperiment\n",
    "\n",
    "#enable inline plotting of matplotlib figures\n",
    "%matplotlib inline\n",
    "\n",
    "#set the figure format to SVG\n",
    "%config InlineBackend.figure_format = 'svg'"
   ]
  },
  {
   "cell_type": "markdown",
   "metadata": {},
   "source": [
    "## 1. Connect DB Api"
   ]
  },
  {
   "cell_type": "code",
   "execution_count": 2,
   "metadata": {},
   "outputs": [
    {
     "name": "stdout",
     "output_type": "stream",
     "text": [
      "\n",
      "Connected to database.\n",
      "Experiment found with the following runs:\n",
      "['standard_5-FAM', 'kinetics_AVI4516', 'button_quant']\n"
     ]
    }
   ],
   "source": [
    "### PARAMETERS:\n",
    "EGFP_SLOPE = 91900.03\n",
    "EGFP_SLOPE_CONC_UNITS = 'nM' #RFU/nM\n",
    "\n",
    "root = './ic50_data/'\n",
    "db_conn = LocalHtbamDBAPI(\n",
    "    standard_curve_data_path= root + 'd3_2_StandardSeries_Analysis.csv',\n",
    "    standard_name=\"standard_5-FAM\", \n",
    "    standard_substrate=\"5-FAM\", \n",
    "    standard_units=\"uM\",\n",
    "    kinetic_data_path= root+ 'd3_TitrationSeries_Analysis.csv',\n",
    "    kinetic_name=\"kinetics_AVI4516\", \n",
    "    kinetic_substrate=\"NSP 4/5\", \n",
    "    kinetic_units=\"nM\")\n",
    "\n",
    "htbam_experiment = HTBAMExperiment(db_conn)"
   ]
  },
  {
   "cell_type": "markdown",
   "metadata": {},
   "source": [
    "## 2. Enzyme Quant"
   ]
  },
  {
   "cell_type": "code",
   "execution_count": 3,
   "metadata": {},
   "outputs": [
    {
     "name": "stdout",
     "output_type": "stream",
     "text": [
      "Existing run data not found. Fetching from database.\n"
     ]
    }
   ],
   "source": [
    "from htbam_analysis.analysis.fitting import transform_data\n",
    "\n",
    "button_quant_data = htbam_experiment.get_run('button_quant')  # retrieve our button quant data\n",
    "button_concentrations = transform_data(button_quant_data, \n",
    "                                       apply_to='luminance',\n",
    "                                       store_as='concentration',\n",
    "                                       function = lambda x: x / EGFP_SLOPE,  # convert RFU to nM\n",
    "                                       flatten = False,\n",
    "                                       data_type = 'concentration_data')                       # flatten array from (n_conc, n_time, n_chambers) to (n_chambers)\n",
    "htbam_experiment.set_run('enzyme_concentrations', button_concentrations)     # save the fit results"
   ]
  },
  {
   "cell_type": "code",
   "execution_count": 4,
   "metadata": {},
   "outputs": [
    {
     "data": {
      "text/html": [
       "\n",
       "        <iframe\n",
       "            width=\"100%\"\n",
       "            height=\"650\"\n",
       "            src=\"http://127.0.0.1:8050/\"\n",
       "            frameborder=\"0\"\n",
       "            allowfullscreen\n",
       "            \n",
       "        ></iframe>\n",
       "        "
      ],
      "text/plain": [
       "<IPython.lib.display.IFrame at 0x7f9c72e45d30>"
      ]
     },
     "metadata": {},
     "output_type": "display_data"
    }
   ],
   "source": [
    "htbam_experiment.plot_enzyme_concentration_chip(analysis_name='enzyme_concentrations', units=EGFP_SLOPE_CONC_UNITS)"
   ]
  },
  {
   "cell_type": "markdown",
   "metadata": {},
   "source": [
    "## 2. Standards"
   ]
  },
  {
   "cell_type": "code",
   "execution_count": 5,
   "metadata": {},
   "outputs": [
    {
     "name": "stdout",
     "output_type": "stream",
     "text": [
      "Existing run data not found. Fetching from database.\n",
      "Fit slopes for 1792 wells.\n",
      "Elapsed 2.172 seconds.\n"
     ]
    }
   ],
   "source": [
    "from htbam_analysis.analysis.fitting import fit_luminance_vs_concentration\n",
    "\n",
    "# For demonstration purposes, I'm doing this in 3 lines\n",
    "# we can either keep it \"exposed\" like this (might be useful?)\n",
    "# Or provide a simple wrapper fx that looks like:\n",
    "# htbam_experiment.fit_standard_curve(experiment_name = 'standard_5-FAM', analysis_name='htbam_experiment')\n",
    "\n",
    "standard_experiment_data = htbam_experiment.get_run('standard_5-FAM')       # retrieve our raw data\n",
    "standard_fits = fit_luminance_vs_concentration(standard_experiment_data)    # perform a fit\n",
    "htbam_experiment.set_run('standard_5-FAM_fits', standard_fits)              # save the fit results"
   ]
  },
  {
   "cell_type": "code",
   "execution_count": 6,
   "metadata": {},
   "outputs": [
    {
     "data": {
      "text/html": [
       "\n",
       "        <iframe\n",
       "            width=\"100%\"\n",
       "            height=\"650\"\n",
       "            src=\"http://127.0.0.1:8050/\"\n",
       "            frameborder=\"0\"\n",
       "            allowfullscreen\n",
       "            \n",
       "        ></iframe>\n",
       "        "
      ],
      "text/plain": [
       "<IPython.lib.display.IFrame at 0x7f9c72f2a910>"
      ]
     },
     "metadata": {},
     "output_type": "display_data"
    }
   ],
   "source": [
    "htbam_experiment.plot_standard_curve_chip('standard_5-FAM_fits', 'standard_5-FAM')"
   ]
  },
  {
   "cell_type": "markdown",
   "metadata": {},
   "source": [
    "## 3. Fit Initial Rates"
   ]
  },
  {
   "cell_type": "code",
   "execution_count": 7,
   "metadata": {},
   "outputs": [
    {
     "name": "stdout",
     "output_type": "stream",
     "text": [
      "Existing run data not found. Fetching from database.\n",
      "Fit slopes for 1792 wells at 12 concentrations.\n",
      "Elapsed 0.026 seconds.\n"
     ]
    }
   ],
   "source": [
    "from htbam_analysis.analysis.fitting import fit_luminance_vs_time\n",
    "\n",
    "kinetics_experiment_data = htbam_experiment.get_run('kinetics_AVI4516')       # retrieve our raw data\n",
    "kinetics_fits = fit_luminance_vs_time(kinetics_experiment_data, start_timepoint = 1, end_timepoint=6)      # perform a fit, skipping the first timepoint\n",
    "htbam_experiment.set_run('kinetics_AVI4516_fits', kinetics_fits)                # save the fit results"
   ]
  },
  {
   "cell_type": "code",
   "execution_count": 8,
   "metadata": {},
   "outputs": [
    {
     "name": "stderr",
     "output_type": "stream",
     "text": [
      "/home/freitas/workspace/htbam_sprint/htbam_analysis/src/htbam_analysis/analysis/experiment.py:216: RuntimeWarning:\n",
      "\n",
      "Mean of empty slice\n",
      "\n"
     ]
    },
    {
     "data": {
      "text/html": [
       "\n",
       "        <iframe\n",
       "            width=\"100%\"\n",
       "            height=\"650\"\n",
       "            src=\"http://127.0.0.1:8050/\"\n",
       "            frameborder=\"0\"\n",
       "            allowfullscreen\n",
       "            \n",
       "        ></iframe>\n",
       "        "
      ],
      "text/plain": [
       "<IPython.lib.display.IFrame at 0x7f9c72f3ad90>"
      ]
     },
     "metadata": {},
     "output_type": "display_data"
    }
   ],
   "source": [
    "htbam_experiment.plot_initial_rates_chip(analysis_name='kinetics_AVI4516_fits', experiment_name='kinetics_AVI4516')#, remove_0_point=True) # plot the initial rates"
   ]
  },
  {
   "cell_type": "markdown",
   "metadata": {},
   "source": [
    "## 4. Filter initial rates"
   ]
  },
  {
   "cell_type": "code",
   "execution_count": 9,
   "metadata": {},
   "outputs": [],
   "source": [
    "# These are the \"Masks\" we use to select which data we want.\n",
    "\n",
    "from htbam_analysis.analysis.filtering import filter_expression_cutoff, filter_initial_rates_positive_cutoff, filter_initial_rates_r2_cutoff, filter_standard_curve_r2_cutoff\n",
    "\n",
    "kinetics_fits = htbam_experiment.get_run('kinetics_AVI4516_fits')       # retrieve our raw data\n",
    "\n",
    "# Initial Rates:\n",
    "initial_rates_r2_mask =         filter_initial_rates_r2_cutoff(kinetics_fits, r2_cutoff=0.8) # 0.9 R2\n",
    "initial_rates_positive_mask =   filter_initial_rates_positive_cutoff(kinetics_fits)          # positive slope\n",
    "\n",
    "# Standard Curve:\n",
    "standard_curve_r2_mask =        filter_standard_curve_r2_cutoff(standard_fits, kinetics_fits, r2_cutoff=0.9) # 0.9 R2\n",
    "\n",
    "# Expression:\n",
    "expression_mask =               filter_expression_cutoff(button_concentrations, kinetics_fits, expression_cutoff=1) # 1 nM\n",
    "\n",
    "# Save the masks to the experiment\n",
    "htbam_experiment.set_run('initial_rates_r2_mask', initial_rates_r2_mask)\n",
    "htbam_experiment.set_run('initial_rates_positive_mask', initial_rates_positive_mask)\n",
    "htbam_experiment.set_run('standard_curve_r2_mask', standard_curve_r2_mask)\n",
    "htbam_experiment.set_run('expression_mask', expression_mask)\n",
    "\n"
   ]
  },
  {
   "cell_type": "code",
   "execution_count": 12,
   "metadata": {},
   "outputs": [
    {
     "data": {
      "text/html": [
       "\n",
       "        <iframe\n",
       "            width=\"100%\"\n",
       "            height=\"650\"\n",
       "            src=\"http://127.0.0.1:8050/\"\n",
       "            frameborder=\"0\"\n",
       "            allowfullscreen\n",
       "            \n",
       "        ></iframe>\n",
       "        "
      ],
      "text/plain": [
       "<IPython.lib.display.IFrame at 0x7f9c73f75d60>"
      ]
     },
     "metadata": {},
     "output_type": "display_data"
    }
   ],
   "source": [
    "# Plot the masks (Do one at a time)\n",
    "#htbam_experiment.plot_mask_chip(mask_name='initial_rates_r2_mask')\n",
    "htbam_experiment.plot_mask_chip(mask_name='initial_rates_positive_mask')\n",
    "#htbam_experiment.plot_mask_chip(mask_name='standard_curve_r2_mask')\n",
    "#htbam_experiment.plot_mask_chip(mask_name='expression_mask')"
   ]
  },
  {
   "cell_type": "code",
   "execution_count": 13,
   "metadata": {},
   "outputs": [],
   "source": [
    "#htbam_experiment.apply_mask(run_name=\"\", save_as=\"\", mask_names=['name'])\n",
    "\n",
    "# TODO, send in the names of the saved mask objects, not the mask data itself.\n",
    "htbam_experiment.apply_mask(run_name='kinetics_AVI4516_fits', \n",
    "                            dep_variables = ['slope', 'intercept'], \n",
    "                            save_as = 'kinetics_AVI4516_fits_masked',\n",
    "                            mask_names = ['initial_rates_r2_mask', 'initial_rates_positive_mask', 'standard_curve_r2_mask', 'expression_mask'])\n"
   ]
  },
  {
   "cell_type": "code",
   "execution_count": 14,
   "metadata": {},
   "outputs": [
    {
     "data": {
      "text/html": [
       "\n",
       "        <iframe\n",
       "            width=\"100%\"\n",
       "            height=\"650\"\n",
       "            src=\"http://127.0.0.1:8050/\"\n",
       "            frameborder=\"0\"\n",
       "            allowfullscreen\n",
       "            \n",
       "        ></iframe>\n",
       "        "
      ],
      "text/plain": [
       "<IPython.lib.display.IFrame at 0x7f9c73f75c10>"
      ]
     },
     "metadata": {},
     "output_type": "display_data"
    }
   ],
   "source": [
    "htbam_experiment.plot_initial_rates_chip(analysis_name='kinetics_AVI4516_fits_masked', experiment_name='kinetics_AVI4516')#, remove_0_point=True) # plot the initial rates"
   ]
  },
  {
   "cell_type": "markdown",
   "metadata": {},
   "source": [
    "# N.F. 6/3/25: Need to finish the fitting code"
   ]
  },
  {
   "cell_type": "markdown",
   "metadata": {},
   "source": [
    "## 5. Fit Inhibition Constant:"
   ]
  },
  {
   "cell_type": "code",
   "execution_count": null,
   "metadata": {},
   "outputs": [],
   "source": [
    "# I've written MM here, but it will be IC50"
   ]
  },
  {
   "cell_type": "code",
   "execution_count": null,
   "metadata": {},
   "outputs": [],
   "source": [
    "kinetics_fits_masked = htbam_experiment.get_run('kinetics_AVI4516_fits_masked')       # retrieve our raw data\n",
    "MM_fits = fit_function_from_initial_rates(kinetics_fits_masked,\n",
    "                                                min_rates_per_chamber=3,\n",
    "                                                min_chambers_per_sample=3,\n",
    "                                                function='MM'\n",
    ")\n",
    "                                                \n",
    "htbam_experiment.set_run('kinetics_AVI4516_MM', MM_fits)     # save the fit results"
   ]
  },
  {
   "cell_type": "markdown",
   "metadata": {},
   "source": []
  },
  {
   "cell_type": "code",
   "execution_count": null,
   "metadata": {},
   "outputs": [],
   "source": [
    "# Add masking, as above\n",
    "# Add filtering step"
   ]
  },
  {
   "cell_type": "code",
   "execution_count": null,
   "metadata": {},
   "outputs": [],
   "source": [
    "htbam_experiment.plot_MM_chip('kinetics_AVI4516_MM', show_average_fit=True)"
   ]
  },
  {
   "cell_type": "markdown",
   "metadata": {},
   "source": [
    "## 6. Export to CSV"
   ]
  },
  {
   "cell_type": "code",
   "execution_count": null,
   "metadata": {},
   "outputs": [],
   "source": [
    "htbam_experiment.export_ic50_result_csv(path_to_save=root,\n",
    "                                        run_name='kinetics_0')"
   ]
  }
 ],
 "metadata": {
  "kernelspec": {
   "display_name": "htbam_sprint",
   "language": "python",
   "name": "python3"
  },
  "language_info": {
   "codemirror_mode": {
    "name": "ipython",
    "version": 3
   },
   "file_extension": ".py",
   "mimetype": "text/x-python",
   "name": "python",
   "nbconvert_exporter": "python",
   "pygments_lexer": "ipython3",
   "version": "3.9.22"
  }
 },
 "nbformat": 4,
 "nbformat_minor": 4
}
