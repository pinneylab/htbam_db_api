{
 "cells": [
  {
   "cell_type": "markdown",
   "metadata": {},
   "source": [
    "# Analysis Template: Inhibition\n",
    "Updated 5/6/24 DFM"
   ]
  },
  {
   "cell_type": "code",
   "execution_count": 1,
   "metadata": {},
   "outputs": [],
   "source": [
    "#enables autoreloding of modules\n",
    "%load_ext autoreload\n",
    "%autoreload 2\n",
    "\n",
    "from htbam_db_api.htbam_db_api import LocalHtbamDBAPI\n",
    "from htbam_analysis.analysis.experiment import HTBAMExperiment\n",
    "\n",
    "#enable inline plotting of matplotlib figures\n",
    "%matplotlib inline\n",
    "\n",
    "#set the figure format to SVG\n",
    "%config InlineBackend.figure_format = 'svg'"
   ]
  },
  {
   "cell_type": "markdown",
   "metadata": {},
   "source": [
    "## 1. Connect DB Api"
   ]
  },
  {
   "cell_type": "code",
   "execution_count": 2,
   "metadata": {},
   "outputs": [
    {
     "name": "stdout",
     "output_type": "stream",
     "text": [
      "\n",
      "Connected to database.\n",
      "Experiment found with the following runs:\n",
      "['standard_5-FAM', 'kinetics_AVI4516']\n"
     ]
    }
   ],
   "source": [
    "### PARAMETERS:\n",
    "EGFP_SLOPE = 91900.03\n",
    "EGFP_SLOPE_CONC_UNITS = 'nM' #RFU/nM\n",
    "\n",
    "root = './ic50_data/'\n",
    "db_conn = LocalHtbamDBAPI(\n",
    "    standard_curve_data_path= root + 'd3_2_StandardSeries_Analysis.csv',\n",
    "    standard_name=\"standard_5-FAM\", \n",
    "    standard_substrate=\"5-FAM\", \n",
    "    standard_units=\"uM\",\n",
    "    kinetic_data_path= root+ 'd3_TitrationSeries_Analysis.csv',\n",
    "    kinetic_name=\"kinetics_AVI4516\", \n",
    "    kinetic_substrate=\"NSP 4/5\", \n",
    "    kinetic_units=\"nM\")\n",
    "\n",
    "htbam_experiment = HTBAMExperiment(db_conn)"
   ]
  },
  {
   "cell_type": "markdown",
   "metadata": {},
   "source": [
    "## 2. Standards"
   ]
  },
  {
   "cell_type": "code",
   "execution_count": 3,
   "metadata": {},
   "outputs": [
    {
     "name": "stdout",
     "output_type": "stream",
     "text": [
      "Existing run data not found. Fetching from database.\n",
      "Fit slopes for 1792 wells.\n",
      "Elapsed 1.107 seconds.\n"
     ]
    }
   ],
   "source": [
    "from htbam_analysis.analysis.fitting import fit_luminance_vs_concentration\n",
    "\n",
    "# For demonstration purposes, I'm doing this in 3 lines\n",
    "# we can either keep it \"exposed\" like this (might be useful?)\n",
    "# Or provide a simple wrapper fx that looks like:\n",
    "# htbam_experiment.fit_standard_curve(experiment_name = 'standard_5-FAM', analysis_name='htbam_experiment')\n",
    "\n",
    "standard_experiment_data = htbam_experiment.get_run('standard_5-FAM')       # retrieve our raw data\n",
    "standard_fits = fit_luminance_vs_concentration(standard_experiment_data)    # perform a fit\n",
    "htbam_experiment.set_run('standard_5-FAM_fits', standard_fits)              # save the fit results"
   ]
  },
  {
   "cell_type": "code",
   "execution_count": 4,
   "metadata": {},
   "outputs": [
    {
     "data": {
      "text/html": [
       "\n",
       "        <iframe\n",
       "            width=\"100%\"\n",
       "            height=\"650\"\n",
       "            src=\"http://127.0.0.1:8050/\"\n",
       "            frameborder=\"0\"\n",
       "            allowfullscreen\n",
       "            \n",
       "        ></iframe>\n",
       "        "
      ],
      "text/plain": [
       "<IPython.lib.display.IFrame at 0x7f3812f74c40>"
      ]
     },
     "metadata": {},
     "output_type": "display_data"
    }
   ],
   "source": [
    "htbam_experiment.plot_standard_curve_chip('standard_5-FAM_fits', 'standard_5-FAM')"
   ]
  },
  {
   "cell_type": "markdown",
   "metadata": {},
   "source": [
    "## 3. Fit Initial Rates"
   ]
  },
  {
   "cell_type": "code",
   "execution_count": 5,
   "metadata": {},
   "outputs": [
    {
     "name": "stdout",
     "output_type": "stream",
     "text": [
      "Existing run data not found. Fetching from database.\n",
      "Fit slopes for 1792 wells at 12 concentrations.\n",
      "Elapsed 0.076 seconds.\n"
     ]
    }
   ],
   "source": [
    "from htbam_analysis.analysis.fitting import fit_luminance_vs_time\n",
    "\n",
    "kinetics_experiment_data = htbam_experiment.get_run('kinetics_AVI4516')       # retrieve our raw data\n",
    "kinetics_fits = fit_luminance_vs_time(kinetics_experiment_data, start_timepoint = 1, end_timepoint=10)      # perform a fit, skipping the first timepoint\n",
    "htbam_experiment.set_run('kinetics_AVI4516_fits', kinetics_fits)                # save the fit results"
   ]
  },
  {
   "cell_type": "code",
   "execution_count": 6,
   "metadata": {},
   "outputs": [
    {
     "data": {
      "text/html": [
       "\n",
       "        <iframe\n",
       "            width=\"100%\"\n",
       "            height=\"650\"\n",
       "            src=\"http://127.0.0.1:8050/\"\n",
       "            frameborder=\"0\"\n",
       "            allowfullscreen\n",
       "            \n",
       "        ></iframe>\n",
       "        "
      ],
      "text/plain": [
       "<IPython.lib.display.IFrame at 0x7f38132e8c10>"
      ]
     },
     "metadata": {},
     "output_type": "display_data"
    }
   ],
   "source": [
    "htbam_experiment.plot_initial_rates_chip('kinetics_AVI4516_fits', 'kinetics_AVI4516')#, remove_0_point=True) # plot the initial rates"
   ]
  },
  {
   "cell_type": "markdown",
   "metadata": {},
   "source": [
    "# N.F. This is how far I got as of 5/16/25"
   ]
  },
  {
   "cell_type": "markdown",
   "metadata": {},
   "source": [
    "## 4. Filter initial rates"
   ]
  },
  {
   "cell_type": "code",
   "execution_count": null,
   "metadata": {},
   "outputs": [],
   "source": [
    "htbam_experiment.compute_enzyme_concentration('kinetic_0', EGFP_SLOPE)"
   ]
  },
  {
   "cell_type": "code",
   "execution_count": null,
   "metadata": {},
   "outputs": [],
   "source": [
    "htbam_experiment.filter_initial_rates('kinetic_0',\n",
    "                                      'standard_0',\n",
    "                                      standard_curve_r2_cutoff = 0.98,\n",
    "                                      expression_threshold = 1.0,\n",
    "                                      initial_rate_R2_threshold = 0.0, \n",
    "                                      positive_initial_slope_filter = False)"
   ]
  },
  {
   "cell_type": "code",
   "execution_count": null,
   "metadata": {},
   "outputs": [],
   "source": [
    "htbam_experiment.plot_filtered_initial_rates_chip('kinetic_0')"
   ]
  },
  {
   "cell_type": "markdown",
   "metadata": {},
   "source": [
    "## 5. Fit Inhibition Constant:"
   ]
  },
  {
   "cell_type": "code",
   "execution_count": null,
   "metadata": {},
   "outputs": [],
   "source": [
    "# NOTE: This will matter for michaelis-menten, but I am leaving it for now to fit IC50s\n",
    "# substrate_conc_unit = db_conn._json_dict['runs']['kinetics_0']['conc_unit']\n",
    "# if  substrate_conc_unit != EGFP_SLOPE_CONC_UNITS: print('Substrate concentration units do not match EGFP standard curve units! \\n{} != {}'.format(substrate_conc_unit, EGFP_SLOPE_CONC_UNITS))\n",
    "\n",
    "# unit_converstion = 0.001 #convert FROM eGFP units TO substrate units (in this case, nM to uM)\n",
    "# enzyme_concentration_converted_units = enzyme_concentration * unit_converstion\n",
    "\n",
    "# #Double check!\n",
    "# print('Conversion:')\n",
    "# print('{} {} = {} {}  ?'.format(enzyme_concentration[0], EGFP_SLOPE_CONC_UNITS, enzyme_concentration_converted_units[0], substrate_conc_unit))"
   ]
  },
  {
   "cell_type": "code",
   "execution_count": null,
   "metadata": {},
   "outputs": [],
   "source": [
    "htbam_experiment.fit_ic50s('kinetic_0')"
   ]
  },
  {
   "cell_type": "code",
   "execution_count": null,
   "metadata": {},
   "outputs": [],
   "source": [
    "htbam_experiment.filter_ic50s('kinetic_0',\n",
    "                              z_score_threshold_ic50 = 1.5,\n",
    "                              z_score_threshold_expression = 1.5,\n",
    "                               save_intermediate_data = False)"
   ]
  },
  {
   "cell_type": "code",
   "execution_count": null,
   "metadata": {},
   "outputs": [],
   "source": [
    "htbam_experiment.plot_filtered_ic50('kinetic_0', show_average_fit=True)"
   ]
  },
  {
   "cell_type": "markdown",
   "metadata": {},
   "source": [
    "## 6. Export to CSV"
   ]
  },
  {
   "cell_type": "code",
   "execution_count": null,
   "metadata": {},
   "outputs": [],
   "source": [
    "htbam_experiment.export_ic50_result_csv(path_to_save=root,\n",
    "                                        run_name='kinetics_0')"
   ]
  }
 ],
 "metadata": {
  "kernelspec": {
   "display_name": "htbam_sprint",
   "language": "python",
   "name": "python3"
  },
  "language_info": {
   "codemirror_mode": {
    "name": "ipython",
    "version": 3
   },
   "file_extension": ".py",
   "mimetype": "text/x-python",
   "name": "python",
   "nbconvert_exporter": "python",
   "pygments_lexer": "ipython3",
   "version": "3.9.22"
  }
 },
 "nbformat": 4,
 "nbformat_minor": 4
}
